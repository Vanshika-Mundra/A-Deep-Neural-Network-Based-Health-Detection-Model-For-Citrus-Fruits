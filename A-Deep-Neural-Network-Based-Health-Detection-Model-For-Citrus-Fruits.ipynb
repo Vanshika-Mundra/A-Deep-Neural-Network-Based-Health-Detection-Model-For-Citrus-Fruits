{
 "cells": [
  {
   "cell_type": "code",
   "execution_count": 1,
   "id": "variable-dollar",
   "metadata": {},
   "outputs": [],
   "source": [
    "from keras.models import Sequential\n",
    "from keras.preprocessing.image import ImageDataGenerator\n",
    "from keras.layers import BatchNormalization\n",
    "from keras.layers import Conv2D, MaxPooling2D, Dense, Flatten,Activation,Dropout\n",
    "from keras.utils import normalize, to_categorical\n",
    "from keras import backend as K\n",
    "import numpy as np\n",
    "from keras.preprocessing import image"
   ]
  },
  {
   "cell_type": "code",
   "execution_count": 2,
   "id": "controlling-strand",
   "metadata": {},
   "outputs": [],
   "source": [
    "img_width ,img_height=100,100"
   ]
  },
  {
   "cell_type": "code",
   "execution_count": 3,
   "id": "postal-framework",
   "metadata": {},
   "outputs": [],
   "source": [
    "train_data_dir=r'C:\\Users\\shree\\Desktop\\dataset\\train'\n",
    "validation_data_dir=r'C:\\Users\\shree\\Desktop\\dataset\\test'\n",
    "nb_train_samples=3061\n",
    "nb_validation_samples=791\n",
    "epochs=5\n",
    "batch_size=30"
   ]
  },
  {
   "cell_type": "code",
   "execution_count": 4,
   "id": "grave-london",
   "metadata": {},
   "outputs": [],
   "source": [
    "if K.image_data_format()==\"channels_first\":\n",
    "\tinput_shape=(3,img_width,img_height)\n",
    "else:\n",
    "\tinput_shape=(img_width,img_height,3)"
   ]
  },
  {
   "cell_type": "code",
   "execution_count": 5,
   "id": "conservative-peoples",
   "metadata": {},
   "outputs": [],
   "source": [
    "train_datagen =ImageDataGenerator(\n",
    "\trescale=1./255,\n",
    "\tshear_range=0.2,\n",
    "\tzoom_range=0.2,\n",
    "\thorizontal_flip=True)"
   ]
  },
  {
   "cell_type": "code",
   "execution_count": 6,
   "id": "descending-belly",
   "metadata": {},
   "outputs": [],
   "source": [
    "test_datagen=ImageDataGenerator(rescale=1./255)"
   ]
  },
  {
   "cell_type": "code",
   "execution_count": 7,
   "id": "thrown-zimbabwe",
   "metadata": {},
   "outputs": [
    {
     "name": "stdout",
     "output_type": "stream",
     "text": [
      "Found 3061 images belonging to 2 classes.\n"
     ]
    }
   ],
   "source": [
    "train_genrator=train_datagen.flow_from_directory(\n",
    "\ttrain_data_dir,\n",
    "\ttarget_size=(img_width,img_height),\n",
    "\tbatch_size=batch_size,\n",
    "\tclass_mode='binary')\n"
   ]
  },
  {
   "cell_type": "code",
   "execution_count": 8,
   "id": "forty-seventh",
   "metadata": {},
   "outputs": [
    {
     "name": "stdout",
     "output_type": "stream",
     "text": [
      "Found 791 images belonging to 2 classes.\n"
     ]
    }
   ],
   "source": [
    "validation_genrator=test_datagen.flow_from_directory(\n",
    "\tvalidation_data_dir,\n",
    "\ttarget_size=(img_width,img_height),\n",
    "\tbatch_size=batch_size,\n",
    "\tclass_mode='binary')\n"
   ]
  },
  {
   "cell_type": "code",
   "execution_count": 9,
   "id": "killing-financing",
   "metadata": {},
   "outputs": [],
   "source": [
    "model = Sequential()"
   ]
  },
  {
   "cell_type": "code",
   "execution_count": 10,
   "id": "delayed-bullet",
   "metadata": {},
   "outputs": [],
   "source": [
    "model.add(Conv2D(64,(3,3),input_shape=input_shape))\n",
    "model.add(Activation('relu'))\n",
    "model.add(MaxPooling2D(pool_size=(2,2)))"
   ]
  },
  {
   "cell_type": "code",
   "execution_count": 11,
   "id": "hungarian-melissa",
   "metadata": {},
   "outputs": [],
   "source": [
    "model.add(Conv2D(64,(3,3)))\n",
    "model.add(Activation('relu'))\n",
    "model.add(MaxPooling2D(pool_size=(2,2)))"
   ]
  },
  {
   "cell_type": "code",
   "execution_count": 12,
   "id": "signal-discretion",
   "metadata": {},
   "outputs": [],
   "source": [
    "model.add(Conv2D(64,(3,3)))\n",
    "model.add(Activation('relu'))\n",
    "model.add(MaxPooling2D(pool_size=(2,2)))\n"
   ]
  },
  {
   "cell_type": "code",
   "execution_count": 13,
   "id": "monetary-skill",
   "metadata": {},
   "outputs": [],
   "source": [
    "model.add(Flatten())\n",
    "model.add(Dense(64))\n",
    "model.add(Activation('relu'))\n",
    "model.add(Dropout(0.5))\n",
    "model.add(Dense(128))\n",
    "model.add(Activation('relu'))\n",
    "model.add(Dropout(0.5))\n",
    "model.add(Dense(1))"
   ]
  },
  {
   "cell_type": "code",
   "execution_count": 14,
   "id": "embedded-jones",
   "metadata": {},
   "outputs": [],
   "source": [
    "model.add(Activation('sigmoid'))"
   ]
  },
  {
   "cell_type": "code",
   "execution_count": 15,
   "id": "retained-alarm",
   "metadata": {},
   "outputs": [],
   "source": [
    "model.compile(optimizer='rmsprop',loss='binary_crossentropy',metrics=['accuracy'])\n"
   ]
  },
  {
   "cell_type": "code",
   "execution_count": 16,
   "id": "stone-present",
   "metadata": {},
   "outputs": [
    {
     "name": "stdout",
     "output_type": "stream",
     "text": [
      "Epoch 1/5\n",
      "102/102 [==============================] - 73s 714ms/step - loss: 0.4737 - accuracy: 0.7826 - val_loss: 0.3057 - val_accuracy: 0.8936\n",
      "Epoch 2/5\n",
      "102/102 [==============================] - 71s 700ms/step - loss: 0.3654 - accuracy: 0.8723 - val_loss: 0.2142 - val_accuracy: 0.9295\n",
      "Epoch 3/5\n",
      "102/102 [==============================] - 72s 702ms/step - loss: 0.2963 - accuracy: 0.8934 - val_loss: 0.1675 - val_accuracy: 0.9346\n",
      "Epoch 4/5\n",
      "102/102 [==============================] - 73s 711ms/step - loss: 0.2712 - accuracy: 0.9192 - val_loss: 0.1198 - val_accuracy: 0.9628\n",
      "Epoch 5/5\n",
      "102/102 [==============================] - 72s 710ms/step - loss: 0.2149 - accuracy: 0.9264 - val_loss: 0.0949 - val_accuracy: 0.9718\n"
     ]
    },
    {
     "data": {
      "text/plain": [
       "<tensorflow.python.keras.callbacks.History at 0x1e59c588130>"
      ]
     },
     "execution_count": 16,
     "metadata": {},
     "output_type": "execute_result"
    }
   ],
   "source": [
    "model.fit(train_genrator,\n",
    "\tsteps_per_epoch=nb_train_samples // batch_size,\n",
    "\tepochs=epochs,\n",
    "\tvalidation_data=validation_genrator,\n",
    "\tvalidation_steps=nb_validation_samples//batch_size)\n"
   ]
  },
  {
   "cell_type": "code",
   "execution_count": 17,
   "id": "automotive-groove",
   "metadata": {},
   "outputs": [],
   "source": [
    "model.save_weights('first_try.h5')\n"
   ]
  },
  {
   "cell_type": "code",
   "execution_count": null,
   "id": "celtic-glory",
   "metadata": {},
   "outputs": [],
   "source": []
  },
  {
   "cell_type": "code",
   "execution_count": null,
   "id": "reverse-swing",
   "metadata": {},
   "outputs": [],
   "source": []
  },
  {
   "cell_type": "code",
   "execution_count": 33,
   "id": "swiss-arnold",
   "metadata": {},
   "outputs": [],
   "source": [
    "img_pred=image.load_img(r'C:\\Users\\shree\\Desktop\\dataset\\test\\rottenoranges\\rotated_by_15_Screen Shot 2018-06-12 at 11.36.19 PM.png',target_size=(100,100))\n",
    "img_pred=image.img_to_array(img_pred)\n",
    "img_pred=np.expand_dims(img_pred,axis=0)\n",
    "\n"
   ]
  },
  {
   "cell_type": "code",
   "execution_count": 34,
   "id": "worth-glance",
   "metadata": {},
   "outputs": [
    {
     "name": "stdout",
     "output_type": "stream",
     "text": [
      "[[0.]]\n",
      "fresh oranges\n"
     ]
    }
   ],
   "source": [
    "rslt=model.predict(img_pred)\n",
    "print(rslt)\n",
    "if rslt[0][0]==1:\n",
    "\tprint(\"damaged oranges\")\n",
    "else:\n",
    "\tprint(\"fresh oranges\")"
   ]
  },
  {
   "cell_type": "code",
   "execution_count": 35,
   "id": "upset-range",
   "metadata": {},
   "outputs": [],
   "source": [
    "model.save(r\"C:\\Users\\Shree\\Desktop\\save model\\result.h5\")"
   ]
  },
  {
   "cell_type": "code",
   "execution_count": null,
   "id": "narrow-reduction",
   "metadata": {},
   "outputs": [],
   "source": []
  }
 ],
 "metadata": {
  "kernelspec": {
   "display_name": "Python 3",
   "language": "python",
   "name": "python3"
  },
  "language_info": {
   "codemirror_mode": {
    "name": "ipython",
    "version": 3
   },
   "file_extension": ".py",
   "mimetype": "text/x-python",
   "name": "python",
   "nbconvert_exporter": "python",
   "pygments_lexer": "ipython3",
   "version": "3.8.5"
  }
 },
 "nbformat": 4,
 "nbformat_minor": 5
}
